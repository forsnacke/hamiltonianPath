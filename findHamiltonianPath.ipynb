{
 "cells": [
  {
   "cell_type": "markdown",
   "metadata": {},
   "source": [
    "### This project intends to apply an algorithm for finding an \"hamiltonian path\""
   ]
  },
  {
   "cell_type": "markdown",
   "metadata": {},
   "source": [
    "\"In the mathematical field of graph theory, a Hamiltonian path (or traceable path) is a path in an undirected or directed graph that visits each vertex exactly once.\"\n",
    "\n",
    "https://en.wikipedia.org/wiki/Hamiltonian_path#:~:text=In%20the%20mathematical%20field%20of,path%20that%20is%20a%20cycle."
   ]
  },
  {
   "cell_type": "code",
   "execution_count": 2,
   "metadata": {},
   "outputs": [],
   "source": [
    "# Initializations\n",
    "h=6\n",
    "w=6\n"
   ]
  },
  {
   "cell_type": "code",
   "execution_count": 3,
   "metadata": {},
   "outputs": [],
   "source": [
    "def hamilton(G,size,pt,path=[]):\n",
    "    print(f'hamilton called with pt={pt}, path={path}')\n",
    "    if pt not in set(path):\n",
    "        path.append(pt)\n",
    "        if len(path)==size:\n",
    "            return path\n",
    "        for pt_next in G.get(pt,[]):\n",
    "            res_path=[i for i in path]\n",
    "            candidate = hamilton(G,size,pt_next,res_path)\n",
    "            if candidate is not None: # skip loop or dead end\n",
    "                return candidate\n",
    "        print(f'path {path} is a dead end')\n",
    "    else:\n",
    "        print(f'pt {pt} already in path {path}')"
   ]
  },
  {
   "cell_type": "code",
   "execution_count": 4,
   "metadata": {},
   "outputs": [
    {
     "name": "stdout",
     "output_type": "stream",
     "text": [
      "hamilton called with pt=1, path=[]\n",
      "hamilton called with pt=2, path=[1]\n",
      "hamilton called with pt=1, path=[1, 2]\n",
      "pt 1 already in path [1, 2]\n",
      "hamilton called with pt=3, path=[1, 2]\n",
      "hamilton called with pt=1, path=[1, 2, 3]\n",
      "pt 1 already in path [1, 2, 3]\n",
      "hamilton called with pt=2, path=[1, 2, 3]\n",
      "pt 2 already in path [1, 2, 3]\n",
      "hamilton called with pt=4, path=[1, 2, 3]\n"
     ]
    },
    {
     "data": {
      "text/plain": [
       "[1, 2, 3, 4]"
      ]
     },
     "execution_count": 4,
     "metadata": {},
     "output_type": "execute_result"
    }
   ],
   "source": [
    "G = {1:[2,3,4], 2:[1,3,4],3:[1,2,4],4:[1,2,3]}\n",
    "hamilton(G,4,1)"
   ]
  },
  {
   "cell_type": "code",
   "execution_count": null,
   "metadata": {},
   "outputs": [],
   "source": []
  }
 ],
 "metadata": {
  "kernelspec": {
   "display_name": "Python 3",
   "language": "python",
   "name": "python3"
  },
  "language_info": {
   "codemirror_mode": {
    "name": "ipython",
    "version": 3
   },
   "file_extension": ".py",
   "mimetype": "text/x-python",
   "name": "python",
   "nbconvert_exporter": "python",
   "pygments_lexer": "ipython3",
   "version": "3.7.3"
  }
 },
 "nbformat": 4,
 "nbformat_minor": 2
}
