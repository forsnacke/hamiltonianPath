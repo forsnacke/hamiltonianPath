{
 "cells": [
  {
   "cell_type": "markdown",
   "metadata": {},
   "source": [
    "### This project intends to apply an algorithm for finding an \"hamiltonian path\""
   ]
  },
  {
   "cell_type": "markdown",
   "metadata": {},
   "source": [
    "\"In the mathematical field of graph theory, a Hamiltonian path (or traceable path) is a path in an undirected or directed graph that visits each vertex exactly once.\"\n",
    "\n",
    "https://en.wikipedia.org/wiki/Hamiltonian_path#:~:text=In%20the%20mathematical%20field%20of,path%20that%20is%20a%20cycle."
   ]
  },
  {
   "cell_type": "code",
   "execution_count": 46,
   "metadata": {},
   "outputs": [
    {
     "data": {
      "image/jpeg": "[encoded data removed]",
      "text/plain": [
       "<IPython.core.display.Image object>"
      ]
     },
     "execution_count": 46,
     "metadata": {},
     "output_type": "execute_result"
    }
   ],
   "source": [
    "from IPython.display import Image\n",
    "Image(filename='hamiltonianChallenge.jpg') "
   ]
  },
  {
   "cell_type": "markdown",
   "metadata": {},
   "source": [
    "### \"Mattekluring i Emils mattebok. Man ska fylla i siffror i en följd i rutsystemet. Antingen får man hoppa över en ruta diagonalt eller två rutor höger eller vänster eller upp och ner. Hur vi än gör kommer vi till 30. Går det att komma längre?\" - H"
   ]
  },
  {
   "cell_type": "code",
   "execution_count": null,
   "metadata": {},
   "outputs": [],
   "source": [
    "#Stolen here: https://stackoverflow.com/questions/47982604/hamiltonian-path-using-python\n",
    "\n",
    "def hamilton(G,size,pt,path=[]):\n",
    "    print(f'hamilton called with pt={pt}, path={path}')\n",
    "    if pt not in set(path):\n",
    "        path.append(pt)\n",
    "        if len(path)==size:\n",
    "            return path\n",
    "        for pt_next in G.get(pt,[]):\n",
    "            res_path=[i for i in path]\n",
    "            candidate = hamilton(G,size,pt_next,res_path)\n",
    "            if candidate is not None: # skip loop or dead end\n",
    "                return candidate\n",
    "        print(f'path {path} is a dead end')\n",
    "    else:\n",
    "        print(f'pt {pt} already in path {path}')"
   ]
  },
  {
   "cell_type": "code",
   "execution_count": 4,
   "metadata": {},
   "outputs": [
    {
     "name": "stdout",
     "output_type": "stream",
     "text": [
      "hamilton called with pt=1, path=[]\n",
      "hamilton called with pt=2, path=[1]\n",
      "hamilton called with pt=1, path=[1, 2]\n",
      "pt 1 already in path [1, 2]\n",
      "hamilton called with pt=3, path=[1, 2]\n",
      "hamilton called with pt=1, path=[1, 2, 3]\n",
      "pt 1 already in path [1, 2, 3]\n",
      "hamilton called with pt=2, path=[1, 2, 3]\n",
      "pt 2 already in path [1, 2, 3]\n",
      "hamilton called with pt=4, path=[1, 2, 3]\n"
     ]
    },
    {
     "data": {
      "text/plain": [
       "[1, 2, 3, 4]"
      ]
     },
     "execution_count": 4,
     "metadata": {},
     "output_type": "execute_result"
    }
   ],
   "source": [
    "G = {1:[2,3,4],2:[1,3,4],3:[1,2,4],4:[1,2,3]}\n",
    "hamilton(G,4,1)"
   ]
  },
  {
   "cell_type": "code",
   "execution_count": 54,
   "metadata": {},
   "outputs": [
    {
     "name": "stdout",
     "output_type": "stream",
     "text": [
      "path [8, 22, 36, 33, 23, 9, 19, 1, 15, 5, 2, 16, 30, 27, 17, 35, 32, 14, 4, 18, 28, 25, 7, 10, 20, 34, 24, 6, 3, 13, 31, 21, 11, 29, 26] is a dead end with length of 35\n",
      "path [8, 22, 36, 33, 23, 9, 19, 1, 15, 5, 2, 16, 30, 27, 17, 35, 32, 14, 4, 18, 28, 25, 7, 10, 20, 34, 31, 13, 3, 6, 24, 21, 11, 29, 26] is a dead end with length of 35\n",
      "path [8, 22, 36, 33, 23, 9, 19, 1, 15, 5, 2, 16, 30, 27, 13, 31, 34, 20, 10, 24, 6, 3, 17, 35, 32, 14, 4, 18, 28, 25, 7, 21, 11, 29, 26] is a dead end with length of 35\n",
      "path [8, 22, 36, 33, 23, 9, 19, 1, 15, 5, 2, 16, 30, 27, 13, 31, 34, 20, 10, 7, 25, 28, 18, 4, 14, 32, 35, 17, 3, 6, 24, 21, 11, 29, 26] is a dead end with length of 35\n"
     ]
    }
   ],
   "source": [
    "def hamilton(G,size,pt,path=[]):\n",
    "    #print(f'hamilton called with pt={pt}, path={path}')\n",
    "    if pt not in set(path):\n",
    "        path.append(pt)\n",
    "        if len(path)==size:\n",
    "            return path\n",
    "        for pt_next in G.get(pt,[]):\n",
    "            res_path=[i for i in path]\n",
    "            candidate = hamilton(G,size,pt_next,res_path)\n",
    "            if candidate is not None: # skip loop or dead end\n",
    "                return candidate\n",
    "        if len(path)==35:\n",
    "            print(f'path {path} is a dead end with length of {len(path)}')\n",
    "    #else:\n",
    "    #    print(f'pt {pt} already in path {path}')\n",
    "\n",
    "\n",
    "G={1:[15,4,19],2:[16,5,20],3:[17,13,6,21],4:[18,14,1,22],5:[15,2,23],6:[16,3,24],7:[21,10,25],8:[22,11,26],9:[23,19,12,27],10:[24,20,7,28],11:[21,8,29],12:[22,9,30],13:[27,3,16,31],14:[28,4,17,32],15:[29,5,1,25,18,33],16:[30,6,2,26,13,34],17:[3,27,14,35],18:[4,28,15,36],19:[33,9,22,1,],20:[34,10,23,2,],21:[35,11,7,31,24,3,],22:[36,12,8,32,19,4,],23:[9,33,20,5,],24:[10,34,21,6],25:[15,28,7,],26:[16,29,8,],27:[17,13,30,9,],28:[18,14,25,10,],29:[15,26,11,],30:[16,27,12],31:[21,34,13,],32:[22,35,14,],33:[23,19,36,15,],34:[24,20,31,16,],35:[21,32,17,],36:[22,33,18]}\n",
    "graphTable=hamilton(G,36,8)"
   ]
  },
  {
   "cell_type": "code",
   "execution_count": 18,
   "metadata": {},
   "outputs": [],
   "source": [
    "import numpy as np\n",
    "from IPython.display import HTML, display\n",
    "from functools import reduce \n",
    "from operator import mul"
   ]
  },
  {
   "cell_type": "code",
   "execution_count": 59,
   "metadata": {},
   "outputs": [
    {
     "name": "stdout",
     "output_type": "stream",
     "text": [
      "The interpretation of the grid below is that the first location is the first stop on the path, the second entry is the second stop, etc..\n"
     ]
    },
    {
     "data": {
      "text/html": [
       "<table><tr><td>8</td><td>22</td><td>36</td><td>33</td><td>23</td><td>9</td></tr><tr><td>19</td><td>1</td><td>15</td><td>5</td><td>2</td><td>16</td></tr><tr><td>26</td><td>29</td><td>11</td><td>21</td><td>7</td><td>25</td></tr><tr><td>28</td><td>18</td><td>4</td><td>14</td><td>32</td><td>35</td></tr><tr><td>17</td><td>3</td><td>6</td><td>24</td><td>10</td><td>20</td></tr><tr><td>34</td><td>31</td><td>13</td><td>27</td><td>30</td><td>12</td></tr></table>"
      ],
      "text/plain": [
       "<IPython.core.display.HTML object>"
      ]
     },
     "metadata": {},
     "output_type": "display_data"
    }
   ],
   "source": [
    "print(\"The interpretation of the grid below is that the first location is the first stop on the path, the second entry is the second stop, etc..\")\n",
    "\n",
    "# Stolen here: https://stackoverflow.com/questions/56121903/how-to-reshape-python-list-without-numpy\n",
    "def reshape(lst, shape):\n",
    "    if len(shape) == 1:\n",
    "        return lst\n",
    "    n = reduce(mul, shape[1:])\n",
    "    return [reshape(lst[i*n:(i+1)*n], shape[1:]) for i in range(len(lst)//n)]\n",
    "\n",
    "graphTableReshaped=reshape(graphTable, [6,6])\n",
    "\n",
    "display(HTML(\n",
    "   '<table><tr>{}</tr></table>'.format(\n",
    "       '</tr><tr>'.join(\n",
    "           '<td>{}</td>'.format('</td><td>'.join(str(_) for _ in row)) for row in graphTableReshaped)\n",
    "       )\n",
    "))"
   ]
  },
  {
   "cell_type": "code",
   "execution_count": 58,
   "metadata": {},
   "outputs": [
    {
     "name": "stdout",
     "output_type": "stream",
     "text": [
      "The interpretation of the grid below is the same as in the example in the very top of the document\n"
     ]
    },
    {
     "data": {
      "text/html": [
       "<table><tr><td>8</td><td>11</td><td>26</td><td>21</td><td>10</td><td>27</td></tr><tr><td>17</td><td>1</td><td>6</td><td>29</td><td>15</td><td>36</td></tr><tr><td>33</td><td>22</td><td>9</td><td>12</td><td>25</td><td>20</td></tr><tr><td>7</td><td>30</td><td>16</td><td>2</td><td>5</td><td>28</td></tr><tr><td>18</td><td>13</td><td>34</td><td>19</td><td>14</td><td>35</td></tr><tr><td>32</td><td>23</td><td>4</td><td>31</td><td>24</td><td>3</td></tr></table>"
      ],
      "text/plain": [
       "<IPython.core.display.HTML object>"
      ]
     },
     "metadata": {},
     "output_type": "display_data"
    }
   ],
   "source": [
    "outputTable=np.zeros(36)\n",
    "n=int(1)\n",
    "for val in graphTable:\n",
    "    outputTable[val-1]=n\n",
    "    n+=1\n",
    "\n",
    "outputTableReshaped_likeExample=np.reshape(outputTable,(6,6))\n",
    "\n",
    "print(\"The interpretation of the grid below is the same as in the example in the very top of the document\")\n",
    "display(HTML(\n",
    "   '<table><tr>{}</tr></table>'.format(\n",
    "       '</tr><tr>'.join(\n",
    "           '<td>{}</td>'.format('</td><td>'.join(str(int(_)) for _ in row)) for row in outputTableReshaped_likeExample)\n",
    "       )\n",
    "))"
   ]
  }
 ],
 "metadata": {
  "kernelspec": {
   "display_name": "Python 3",
   "language": "python",
   "name": "python3"
  },
  "language_info": {
   "codemirror_mode": {
    "name": "ipython",
    "version": 3
   },
   "file_extension": ".py",
   "mimetype": "text/x-python",
   "name": "python",
   "nbconvert_exporter": "python",
   "pygments_lexer": "ipython3",
   "version": "3.7.3"
  }
 },
 "nbformat": 4,
 "nbformat_minor": 2
}
